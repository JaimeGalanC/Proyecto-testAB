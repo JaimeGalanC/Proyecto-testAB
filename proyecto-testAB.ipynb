{
 "cells": [
  {
   "cell_type": "markdown",
   "metadata": {},
   "source": [
    "<a id='contenidos'></a>"
   ]
  },
  {
   "cell_type": "markdown",
   "metadata": {
    "tags": [],
    "toc": true
   },
   "source": [
    "<h1>Tabla de Contenidos<span class=\"tocSkip\"></span></h1>\n",
    "<div class=\"toc\"><ul class=\"toc-item\"><li><span><a href=\"#Cargar-los-sets-de-datos\" data-toc-modified-id=\"Cargar-los-sets-de-datos-1\"><span class=\"toc-item-num\">1&nbsp;&nbsp;</span>Cargar los sets de datos</a></span></li><li><span><a href=\"#Parte-1.-Priorizar-hipótesis\" data-toc-modified-id=\"Parte-1.-Priorizar-hipótesis-2\"><span class=\"toc-item-num\">2&nbsp;&nbsp;</span>Parte 1. Priorizar hipótesis</a></span><ul class=\"toc-item\"><li><span><a href=\"#Framework-ICE\" data-toc-modified-id=\"Framework-ICE-2.1\"><span class=\"toc-item-num\">2.1&nbsp;&nbsp;</span>Framework ICE</a></span></li><li><span><a href=\"#Framework-RICE\" data-toc-modified-id=\"Framework-RICE-2.2\"><span class=\"toc-item-num\">2.2&nbsp;&nbsp;</span>Framework RICE</a></span></li></ul></li><li><span><a href=\"#Parte-2.-Test-A/B\" data-toc-modified-id=\"Parte-2.-Test-A/B-3\"><span class=\"toc-item-num\">3&nbsp;&nbsp;</span>Parte 2. Test A/B</a></span><ul class=\"toc-item\"><li><span><a href=\"#Preprocesamiento-de-los-datos\" data-toc-modified-id=\"Preprocesamiento-de-los-datos-3.1\"><span class=\"toc-item-num\">3.1&nbsp;&nbsp;</span>Preprocesamiento de los datos</a></span></li><li><span><a href=\"#Ingresos-acumulados-por-grupo\" data-toc-modified-id=\"Ingresos-acumulados-por-grupo-3.2\"><span class=\"toc-item-num\">3.2&nbsp;&nbsp;</span>Ingresos acumulados por grupo</a></span></li><li><span><a href=\"#Tamaño-de-pedido-promedio-acumulado-por-grupo\" data-toc-modified-id=\"Tamaño-de-pedido-promedio-acumulado-por-grupo-3.3\"><span class=\"toc-item-num\">3.3&nbsp;&nbsp;</span>Tamaño de pedido promedio acumulado por grupo</a></span></li><li><span><a href=\"#Diferencia-relativa-en-el-monto-de-pedido-promedio-acumulado-para-el-grupo-B-en-comparación-con-el-grupo-A\" data-toc-modified-id=\"Diferencia-relativa-en-el-monto-de-pedido-promedio-acumulado-para-el-grupo-B-en-comparación-con-el-grupo-A-3.4\"><span class=\"toc-item-num\">3.4&nbsp;&nbsp;</span>Diferencia relativa en el monto de pedido promedio acumulado para el grupo B en comparación con el grupo A</a></span></li><li><span><a href=\"#Tasa-de-conversión-de-cada-grupo\" data-toc-modified-id=\"Tasa-de-conversión-de-cada-grupo-3.5\"><span class=\"toc-item-num\">3.5&nbsp;&nbsp;</span>Tasa de conversión de cada grupo</a></span></li><li><span><a href=\"#Diferencia-relativa-para-las-tasas-de-conversión-acumuladas\" data-toc-modified-id=\"Diferencia-relativa-para-las-tasas-de-conversión-acumuladas-3.6\"><span class=\"toc-item-num\">3.6&nbsp;&nbsp;</span>Diferencia relativa para las tasas de conversión acumuladas</a></span></li><li><span><a href=\"#Dispersión-del-número-de-pedidos-por-usuario\" data-toc-modified-id=\"Dispersión-del-número-de-pedidos-por-usuario-3.7\"><span class=\"toc-item-num\">3.7&nbsp;&nbsp;</span>Dispersión del número de pedidos por usuario</a></span></li><li><span><a href=\"#Dispersión-de-los-montos-de-los-pedidos\" data-toc-modified-id=\"Dispersión-de-los-montos-de-los-pedidos-3.8\"><span class=\"toc-item-num\">3.8&nbsp;&nbsp;</span>Dispersión de los montos de los pedidos</a></span></li><li><span><a href=\"#Significancia-estadística-de-la-diferencia-en-las-tasas-de-conversión-entre-los-grupos-utilizando-los-datos-en-bruto\" data-toc-modified-id=\"Significancia-estadística-de-la-diferencia-en-las-tasas-de-conversión-entre-los-grupos-utilizando-los-datos-en-bruto-3.9\"><span class=\"toc-item-num\">3.9&nbsp;&nbsp;</span>Significancia estadística de la diferencia en las tasas de conversión entre los grupos utilizando los datos en bruto</a></span></li><li><span><a href=\"#Significancia-estadística-de-la-diferencia-en-el-monto-promedio-de-pedido-entre-los-grupos-utilizando-los-datos-en-bruto\" data-toc-modified-id=\"Significancia-estadística-de-la-diferencia-en-el-monto-promedio-de-pedido-entre-los-grupos-utilizando-los-datos-en-bruto-3.10\"><span class=\"toc-item-num\">3.10&nbsp;&nbsp;</span>Significancia estadística de la diferencia en el monto promedio de pedido entre los grupos utilizando los datos en bruto</a></span></li><li><span><a href=\"#Significancia-estadística-de-la-diferencia-en-la-conversión-entre-los-grupos-utilizando-los-datos-filtrados\" data-toc-modified-id=\"Significancia-estadística-de-la-diferencia-en-la-conversión-entre-los-grupos-utilizando-los-datos-filtrados-3.11\"><span class=\"toc-item-num\">3.11&nbsp;&nbsp;</span>Significancia estadística de la diferencia en la conversión entre los grupos utilizando los datos filtrados</a></span></li><li><span><a href=\"#Significancia-estadística-de-la-diferencia-en-el-monto-promedio-de-pedido-entre-los-grupos-utilizando-los-datos-filtrados\" data-toc-modified-id=\"Significancia-estadística-de-la-diferencia-en-el-monto-promedio-de-pedido-entre-los-grupos-utilizando-los-datos-filtrados-3.12\"><span class=\"toc-item-num\">3.12&nbsp;&nbsp;</span>Significancia estadística de la diferencia en el monto promedio de pedido entre los grupos utilizando los datos filtrados</a></span></li><li><span><a href=\"#Tomar-una-decisión-basada-en-los-resultados-de-la-prueba\" data-toc-modified-id=\"Tomar-una-decisión-basada-en-los-resultados-de-la-prueba-3.13\"><span class=\"toc-item-num\">3.13&nbsp;&nbsp;</span>Tomar una decisión basada en los resultados de la prueba</a></span></li></ul></li></ul></div>"
   ]
  },
  {
   "cell_type": "markdown",
   "metadata": {},
   "source": [
    "# Descripción del  proyecto\n",
    "\n",
    "En este proyecto vamos a realizar un test A/B sobre las ventas de una tienda en línea,\n",
    "\n",
    "Junto con el departamento de marketing **se ha recopilado una lista de hipótesis que pueden ayudar a aumentar los ingresos.\n",
    "Vamos a priorizar estas hipótesis, lanzar un test A/B y analizar los resultados.**\n",
    "\n",
    "Trabajaremos con datos provenientes de las ventas y las visitas realizadas a la tienda en línea."
   ]
  },
  {
   "cell_type": "markdown",
   "metadata": {},
   "source": [
    "[Volver a contenidos](#contenidos)\n",
    "# Cargar las librerías"
   ]
  },
  {
   "cell_type": "code",
   "execution_count": 1,
   "metadata": {},
   "outputs": [],
   "source": [
    "# importamos las librerias a ocupar\n",
    "import pandas as pd\n",
    "import matplotlib.pyplot as plt\n",
    "import seaborn as sns\n",
    "import numpy as np\n",
    "import datetime as dt\n",
    "import scipy.stats as stats\n",
    "\n",
    "sns.set_palette(palette='tab10')"
   ]
  },
  {
   "cell_type": "markdown",
   "metadata": {},
   "source": [
    "[Volver a contenidos](#contenidos)\n",
    "## Cargar los sets de datos\n",
    "\n",
    "En esta sección vamos a cargar los sets de datos para poder realizar la priorización de las hipótesis y posteriormente el análisis de las ventas.  \n",
    "Vamos a cargar los archivos `'csv'` en DataFrames para poder revisar su estructura."
   ]
  },
  {
   "cell_type": "code",
   "execution_count": 2,
   "metadata": {},
   "outputs": [],
   "source": [
    "# cargamos los datos con las hipótesis y sus parámetros\n",
    "data_hypotheses=pd.read_csv('hypotheses_us.csv',sep=';')"
   ]
  },
  {
   "cell_type": "code",
   "execution_count": 3,
   "metadata": {},
   "outputs": [
    {
     "name": "stdout",
     "output_type": "stream",
     "text": [
      "<class 'pandas.core.frame.DataFrame'>\n",
      "RangeIndex: 9 entries, 0 to 8\n",
      "Data columns (total 5 columns):\n",
      " #   Column      Non-Null Count  Dtype \n",
      "---  ------      --------------  ----- \n",
      " 0   Hypothesis  9 non-null      object\n",
      " 1   Reach       9 non-null      int64 \n",
      " 2   Impact      9 non-null      int64 \n",
      " 3   Confidence  9 non-null      int64 \n",
      " 4   Effort      9 non-null      int64 \n",
      "dtypes: int64(4), object(1)\n",
      "memory usage: 488.0+ bytes\n"
     ]
    }
   ],
   "source": [
    "# mostramos información general del set de datos\n",
    "data_hypotheses.info()"
   ]
  },
  {
   "cell_type": "code",
   "execution_count": 4,
   "metadata": {},
   "outputs": [
    {
     "data": {
      "text/html": [
       "<div>\n",
       "<style scoped>\n",
       "    .dataframe tbody tr th:only-of-type {\n",
       "        vertical-align: middle;\n",
       "    }\n",
       "\n",
       "    .dataframe tbody tr th {\n",
       "        vertical-align: top;\n",
       "    }\n",
       "\n",
       "    .dataframe thead th {\n",
       "        text-align: right;\n",
       "    }\n",
       "</style>\n",
       "<table border=\"1\" class=\"dataframe\">\n",
       "  <thead>\n",
       "    <tr style=\"text-align: right;\">\n",
       "      <th></th>\n",
       "      <th>Hypothesis</th>\n",
       "      <th>Reach</th>\n",
       "      <th>Impact</th>\n",
       "      <th>Confidence</th>\n",
       "      <th>Effort</th>\n",
       "    </tr>\n",
       "  </thead>\n",
       "  <tbody>\n",
       "    <tr>\n",
       "      <th>0</th>\n",
       "      <td>Add two new channels for attracting traffic. This will bring 30% more users</td>\n",
       "      <td>3</td>\n",
       "      <td>10</td>\n",
       "      <td>8</td>\n",
       "      <td>6</td>\n",
       "    </tr>\n",
       "    <tr>\n",
       "      <th>1</th>\n",
       "      <td>Launch your own delivery service. This will shorten delivery time</td>\n",
       "      <td>2</td>\n",
       "      <td>5</td>\n",
       "      <td>4</td>\n",
       "      <td>10</td>\n",
       "    </tr>\n",
       "    <tr>\n",
       "      <th>2</th>\n",
       "      <td>Add product recommendation blocks to the store's site. This will increase conversion and average purchase size</td>\n",
       "      <td>8</td>\n",
       "      <td>3</td>\n",
       "      <td>7</td>\n",
       "      <td>3</td>\n",
       "    </tr>\n",
       "    <tr>\n",
       "      <th>3</th>\n",
       "      <td>Change the category structure. This will increase conversion since users will find the products they want more quickly</td>\n",
       "      <td>8</td>\n",
       "      <td>3</td>\n",
       "      <td>3</td>\n",
       "      <td>8</td>\n",
       "    </tr>\n",
       "    <tr>\n",
       "      <th>4</th>\n",
       "      <td>Change the background color on the main page. This will increase user engagement</td>\n",
       "      <td>3</td>\n",
       "      <td>1</td>\n",
       "      <td>1</td>\n",
       "      <td>1</td>\n",
       "    </tr>\n",
       "    <tr>\n",
       "      <th>5</th>\n",
       "      <td>Add a customer review page. This will increase the number of orders</td>\n",
       "      <td>3</td>\n",
       "      <td>2</td>\n",
       "      <td>2</td>\n",
       "      <td>3</td>\n",
       "    </tr>\n",
       "    <tr>\n",
       "      <th>6</th>\n",
       "      <td>Show banners with current offers and sales on the main page. This will boost conversion</td>\n",
       "      <td>5</td>\n",
       "      <td>3</td>\n",
       "      <td>8</td>\n",
       "      <td>3</td>\n",
       "    </tr>\n",
       "    <tr>\n",
       "      <th>7</th>\n",
       "      <td>Add a subscription form to all the main pages. This will help you compile a mailing list</td>\n",
       "      <td>10</td>\n",
       "      <td>7</td>\n",
       "      <td>8</td>\n",
       "      <td>5</td>\n",
       "    </tr>\n",
       "    <tr>\n",
       "      <th>8</th>\n",
       "      <td>Launch a promotion that gives users discounts on their birthdays</td>\n",
       "      <td>1</td>\n",
       "      <td>9</td>\n",
       "      <td>9</td>\n",
       "      <td>5</td>\n",
       "    </tr>\n",
       "  </tbody>\n",
       "</table>\n",
       "</div>"
      ],
      "text/plain": [
       "                                                                                                               Hypothesis  \\\n",
       "0                                             Add two new channels for attracting traffic. This will bring 30% more users   \n",
       "1                                                       Launch your own delivery service. This will shorten delivery time   \n",
       "2          Add product recommendation blocks to the store's site. This will increase conversion and average purchase size   \n",
       "3  Change the category structure. This will increase conversion since users will find the products they want more quickly   \n",
       "4                                        Change the background color on the main page. This will increase user engagement   \n",
       "5                                                     Add a customer review page. This will increase the number of orders   \n",
       "6                                 Show banners with current offers and sales on the main page. This will boost conversion   \n",
       "7                                Add a subscription form to all the main pages. This will help you compile a mailing list   \n",
       "8                                                        Launch a promotion that gives users discounts on their birthdays   \n",
       "\n",
       "   Reach  Impact  Confidence  Effort  \n",
       "0      3      10           8       6  \n",
       "1      2       5           4      10  \n",
       "2      8       3           7       3  \n",
       "3      8       3           3       8  \n",
       "4      3       1           1       1  \n",
       "5      3       2           2       3  \n",
       "6      5       3           8       3  \n",
       "7     10       7           8       5  \n",
       "8      1       9           9       5  "
      ]
     },
     "execution_count": 4,
     "metadata": {},
     "output_type": "execute_result"
    }
   ],
   "source": [
    "# mostramos las hipótesis y sus parámetros\n",
    "pd.set_option('display.max_colwidth', 120)\n",
    "data_hypotheses"
   ]
  },
  {
   "cell_type": "code",
   "execution_count": 5,
   "metadata": {},
   "outputs": [],
   "source": [
    "# reestablecemos el ancho de las columnas\n",
    "pd.set_option('display.max_colwidth', 50)"
   ]
  },
  {
   "cell_type": "markdown",
   "metadata": {},
   "source": [
    "---\n",
    "Descripción de los datos:\n",
    "- **Hypotheses:** breves descripciones de las hipótesis\n",
    "- **Reach:** alcance del usuario, en una escala del uno a diez\n",
    "- **Impact:** impacto en los usuarios, en una escala del uno al diez\n",
    "- **Confidence:** confianza en la hipótesis, en una escala del uno al diez\n",
    "- **Effort:** los recursos necesarios para probar una hipótesis, en una escala del uno al diez. Cuanto mayor sea el valor Effort, más recursos requiere la prueba."
   ]
  },
  {
   "cell_type": "code",
   "execution_count": 6,
   "metadata": {},
   "outputs": [],
   "source": [
    "# cargamos los datos de las ventas\n",
    "data_orders=pd.read_csv('orders_us.csv',parse_dates=['date'])"
   ]
  },
  {
   "cell_type": "code",
   "execution_count": 7,
   "metadata": {},
   "outputs": [
    {
     "name": "stdout",
     "output_type": "stream",
     "text": [
      "<class 'pandas.core.frame.DataFrame'>\n",
      "RangeIndex: 1197 entries, 0 to 1196\n",
      "Data columns (total 5 columns):\n",
      " #   Column         Non-Null Count  Dtype         \n",
      "---  ------         --------------  -----         \n",
      " 0   transactionId  1197 non-null   int64         \n",
      " 1   visitorId      1197 non-null   int64         \n",
      " 2   date           1197 non-null   datetime64[ns]\n",
      " 3   revenue        1197 non-null   float64       \n",
      " 4   group          1197 non-null   object        \n",
      "dtypes: datetime64[ns](1), float64(1), int64(2), object(1)\n",
      "memory usage: 105.3 KB\n"
     ]
    }
   ],
   "source": [
    "# revisamos información general de 'data_orders'\n",
    "data_orders.info(memory_usage='deep')"
   ]
  },
  {
   "cell_type": "code",
   "execution_count": 8,
   "metadata": {},
   "outputs": [
    {
     "data": {
      "text/html": [
       "<div>\n",
       "<style scoped>\n",
       "    .dataframe tbody tr th:only-of-type {\n",
       "        vertical-align: middle;\n",
       "    }\n",
       "\n",
       "    .dataframe tbody tr th {\n",
       "        vertical-align: top;\n",
       "    }\n",
       "\n",
       "    .dataframe thead th {\n",
       "        text-align: right;\n",
       "    }\n",
       "</style>\n",
       "<table border=\"1\" class=\"dataframe\">\n",
       "  <thead>\n",
       "    <tr style=\"text-align: right;\">\n",
       "      <th></th>\n",
       "      <th>transactionId</th>\n",
       "      <th>visitorId</th>\n",
       "      <th>date</th>\n",
       "      <th>revenue</th>\n",
       "      <th>group</th>\n",
       "    </tr>\n",
       "  </thead>\n",
       "  <tbody>\n",
       "    <tr>\n",
       "      <th>360</th>\n",
       "      <td>4027963553</td>\n",
       "      <td>1893387602</td>\n",
       "      <td>2019-08-06</td>\n",
       "      <td>140.2</td>\n",
       "      <td>B</td>\n",
       "    </tr>\n",
       "    <tr>\n",
       "      <th>855</th>\n",
       "      <td>3483580157</td>\n",
       "      <td>2580341989</td>\n",
       "      <td>2019-08-27</td>\n",
       "      <td>285.1</td>\n",
       "      <td>A</td>\n",
       "    </tr>\n",
       "    <tr>\n",
       "      <th>184</th>\n",
       "      <td>1367815478</td>\n",
       "      <td>138252163</td>\n",
       "      <td>2019-08-23</td>\n",
       "      <td>75.5</td>\n",
       "      <td>A</td>\n",
       "    </tr>\n",
       "  </tbody>\n",
       "</table>\n",
       "</div>"
      ],
      "text/plain": [
       "     transactionId   visitorId       date  revenue group\n",
       "360     4027963553  1893387602 2019-08-06    140.2     B\n",
       "855     3483580157  2580341989 2019-08-27    285.1     A\n",
       "184     1367815478   138252163 2019-08-23     75.5     A"
      ]
     },
     "execution_count": 8,
     "metadata": {},
     "output_type": "execute_result"
    }
   ],
   "source": [
    "# mostramos parte de los datos\n",
    "data_orders.sample(3)"
   ]
  },
  {
   "cell_type": "code",
   "execution_count": 9,
   "metadata": {},
   "outputs": [
    {
     "data": {
      "text/plain": [
       "B    640\n",
       "A    557\n",
       "Name: group, dtype: int64"
      ]
     },
     "execution_count": 9,
     "metadata": {},
     "output_type": "execute_result"
    }
   ],
   "source": [
    "# mostramos las categorias en la columna 'group'\n",
    "data_orders['group'].value_counts()"
   ]
  },
  {
   "cell_type": "markdown",
   "metadata": {},
   "source": [
    "---\n",
    "Descripción de los datos:\n",
    "- **transactionId:** identificador de pedido\n",
    "- **visitorId:** identificador del usuario que realizó el pedido\n",
    "- **date:** fecha del pedido, en formato AAAA-MM-DD\n",
    "- **revenue:** ingresos del pedido\n",
    "- **group:** el grupo del test A/B al que pertenece el usuario"
   ]
  },
  {
   "cell_type": "code",
   "execution_count": 10,
   "metadata": {},
   "outputs": [],
   "source": [
    "# cargamos los datos de las visitas a la tienda en linea\n",
    "data_visits=pd.read_csv('visits_us.csv',parse_dates=['date'])"
   ]
  },
  {
   "cell_type": "code",
   "execution_count": 11,
   "metadata": {},
   "outputs": [
    {
     "name": "stdout",
     "output_type": "stream",
     "text": [
      "<class 'pandas.core.frame.DataFrame'>\n",
      "RangeIndex: 62 entries, 0 to 61\n",
      "Data columns (total 3 columns):\n",
      " #   Column  Non-Null Count  Dtype         \n",
      "---  ------  --------------  -----         \n",
      " 0   date    62 non-null     datetime64[ns]\n",
      " 1   group   62 non-null     object        \n",
      " 2   visits  62 non-null     int64         \n",
      "dtypes: datetime64[ns](1), int64(1), object(1)\n",
      "memory usage: 4.6 KB\n"
     ]
    }
   ],
   "source": [
    "# revisamos información general de 'data_visits'\n",
    "data_visits.info(memory_usage='deep')"
   ]
  },
  {
   "cell_type": "code",
   "execution_count": 12,
   "metadata": {},
   "outputs": [
    {
     "data": {
      "text/html": [
       "<div>\n",
       "<style scoped>\n",
       "    .dataframe tbody tr th:only-of-type {\n",
       "        vertical-align: middle;\n",
       "    }\n",
       "\n",
       "    .dataframe tbody tr th {\n",
       "        vertical-align: top;\n",
       "    }\n",
       "\n",
       "    .dataframe thead th {\n",
       "        text-align: right;\n",
       "    }\n",
       "</style>\n",
       "<table border=\"1\" class=\"dataframe\">\n",
       "  <thead>\n",
       "    <tr style=\"text-align: right;\">\n",
       "      <th></th>\n",
       "      <th>date</th>\n",
       "      <th>group</th>\n",
       "      <th>visits</th>\n",
       "    </tr>\n",
       "  </thead>\n",
       "  <tbody>\n",
       "    <tr>\n",
       "      <th>0</th>\n",
       "      <td>2019-08-01</td>\n",
       "      <td>A</td>\n",
       "      <td>719</td>\n",
       "    </tr>\n",
       "    <tr>\n",
       "      <th>1</th>\n",
       "      <td>2019-08-02</td>\n",
       "      <td>A</td>\n",
       "      <td>619</td>\n",
       "    </tr>\n",
       "    <tr>\n",
       "      <th>2</th>\n",
       "      <td>2019-08-03</td>\n",
       "      <td>A</td>\n",
       "      <td>507</td>\n",
       "    </tr>\n",
       "    <tr>\n",
       "      <th>3</th>\n",
       "      <td>2019-08-04</td>\n",
       "      <td>A</td>\n",
       "      <td>717</td>\n",
       "    </tr>\n",
       "    <tr>\n",
       "      <th>4</th>\n",
       "      <td>2019-08-05</td>\n",
       "      <td>A</td>\n",
       "      <td>756</td>\n",
       "    </tr>\n",
       "  </tbody>\n",
       "</table>\n",
       "</div>"
      ],
      "text/plain": [
       "        date group  visits\n",
       "0 2019-08-01     A     719\n",
       "1 2019-08-02     A     619\n",
       "2 2019-08-03     A     507\n",
       "3 2019-08-04     A     717\n",
       "4 2019-08-05     A     756"
      ]
     },
     "execution_count": 12,
     "metadata": {},
     "output_type": "execute_result"
    }
   ],
   "source": [
    "# mostramos parte de los datos\n",
    "data_visits.head()"
   ]
  },
  {
   "cell_type": "code",
   "execution_count": 13,
   "metadata": {},
   "outputs": [
    {
     "data": {
      "text/plain": [
       "B    31\n",
       "A    31\n",
       "Name: group, dtype: int64"
      ]
     },
     "execution_count": 13,
     "metadata": {},
     "output_type": "execute_result"
    }
   ],
   "source": [
    "# mostramos las categorias en la columna 'group'\n",
    "data_visits['group'].value_counts()"
   ]
  },
  {
   "cell_type": "markdown",
   "metadata": {},
   "source": [
    "---\n",
    "Descripción de los datos:\n",
    "- **date:** la fecha, en formato AAAA-MM-DD\n",
    "- **group:** grupo del test A/B\n",
    "- **visits:** el número de visitas en la fecha especificada para el grupo de test A/B especificado"
   ]
  },
  {
   "cell_type": "markdown",
   "metadata": {},
   "source": [
    "[Volver a contenidos](#contenidos)\n",
    "## Parte 1. Priorizar hipótesis\n",
    "\n",
    "En el archivo `'data_hypotheses'` tenemos nueve hipótesis sobre como aumentar los ingresos de una tienda en línea con Reach, Impact, Confidence y Effort, especificados para cada una. **Aplicaremos el framework ICE y RICE para priorizar hipótesis.**"
   ]
  },
  {
   "cell_type": "markdown",
   "metadata": {},
   "source": [
    "### Framework ICE"
   ]
  },
  {
   "cell_type": "code",
   "execution_count": 14,
   "metadata": {},
   "outputs": [
    {
     "data": {
      "text/html": [
       "<div>\n",
       "<style scoped>\n",
       "    .dataframe tbody tr th:only-of-type {\n",
       "        vertical-align: middle;\n",
       "    }\n",
       "\n",
       "    .dataframe tbody tr th {\n",
       "        vertical-align: top;\n",
       "    }\n",
       "\n",
       "    .dataframe thead th {\n",
       "        text-align: right;\n",
       "    }\n",
       "</style>\n",
       "<table border=\"1\" class=\"dataframe\">\n",
       "  <thead>\n",
       "    <tr style=\"text-align: right;\">\n",
       "      <th></th>\n",
       "      <th>Hypothesis</th>\n",
       "      <th>Reach</th>\n",
       "      <th>Impact</th>\n",
       "      <th>Confidence</th>\n",
       "      <th>Effort</th>\n",
       "    </tr>\n",
       "  </thead>\n",
       "  <tbody>\n",
       "    <tr>\n",
       "      <th>0</th>\n",
       "      <td>Add two new channels for attracting traffic. T...</td>\n",
       "      <td>3</td>\n",
       "      <td>10</td>\n",
       "      <td>8</td>\n",
       "      <td>6</td>\n",
       "    </tr>\n",
       "  </tbody>\n",
       "</table>\n",
       "</div>"
      ],
      "text/plain": [
       "                                          Hypothesis  Reach  Impact  \\\n",
       "0  Add two new channels for attracting traffic. T...      3      10   \n",
       "\n",
       "   Confidence  Effort  \n",
       "0           8       6  "
      ]
     },
     "execution_count": 14,
     "metadata": {},
     "output_type": "execute_result"
    }
   ],
   "source": [
    "# echamos un vistazo a 'data_hypotheses'\n",
    "data_hypotheses.sample()"
   ]
  },
  {
   "cell_type": "code",
   "execution_count": 15,
   "metadata": {},
   "outputs": [],
   "source": [
    "# calculamos el 'ICE score'\n",
    "data_hypotheses['ICE']=data_hypotheses.Impact*data_hypotheses.Confidence/data_hypotheses.Effort"
   ]
  },
  {
   "cell_type": "code",
   "execution_count": 16,
   "metadata": {
    "tags": []
   },
   "outputs": [
    {
     "data": {
      "text/html": [
       "<div>\n",
       "<style scoped>\n",
       "    .dataframe tbody tr th:only-of-type {\n",
       "        vertical-align: middle;\n",
       "    }\n",
       "\n",
       "    .dataframe tbody tr th {\n",
       "        vertical-align: top;\n",
       "    }\n",
       "\n",
       "    .dataframe thead th {\n",
       "        text-align: right;\n",
       "    }\n",
       "</style>\n",
       "<table border=\"1\" class=\"dataframe\">\n",
       "  <thead>\n",
       "    <tr style=\"text-align: right;\">\n",
       "      <th></th>\n",
       "      <th>Hypothesis</th>\n",
       "      <th>Reach</th>\n",
       "      <th>Impact</th>\n",
       "      <th>Confidence</th>\n",
       "      <th>Effort</th>\n",
       "      <th>ICE</th>\n",
       "    </tr>\n",
       "  </thead>\n",
       "  <tbody>\n",
       "    <tr>\n",
       "      <th>8</th>\n",
       "      <td>Launch a promotion that gives users discounts on their birthdays</td>\n",
       "      <td>1</td>\n",
       "      <td>9</td>\n",
       "      <td>9</td>\n",
       "      <td>5</td>\n",
       "      <td>16.200000</td>\n",
       "    </tr>\n",
       "    <tr>\n",
       "      <th>0</th>\n",
       "      <td>Add two new channels for attracting traffic. This will bring 30% more users</td>\n",
       "      <td>3</td>\n",
       "      <td>10</td>\n",
       "      <td>8</td>\n",
       "      <td>6</td>\n",
       "      <td>13.333333</td>\n",
       "    </tr>\n",
       "    <tr>\n",
       "      <th>7</th>\n",
       "      <td>Add a subscription form to all the main pages. This will help you compile a mailing list</td>\n",
       "      <td>10</td>\n",
       "      <td>7</td>\n",
       "      <td>8</td>\n",
       "      <td>5</td>\n",
       "      <td>11.200000</td>\n",
       "    </tr>\n",
       "    <tr>\n",
       "      <th>6</th>\n",
       "      <td>Show banners with current offers and sales on the main page. This will boost conversion</td>\n",
       "      <td>5</td>\n",
       "      <td>3</td>\n",
       "      <td>8</td>\n",
       "      <td>3</td>\n",
       "      <td>8.000000</td>\n",
       "    </tr>\n",
       "    <tr>\n",
       "      <th>2</th>\n",
       "      <td>Add product recommendation blocks to the store's site. This will increase conversion and average purchase size</td>\n",
       "      <td>8</td>\n",
       "      <td>3</td>\n",
       "      <td>7</td>\n",
       "      <td>3</td>\n",
       "      <td>7.000000</td>\n",
       "    </tr>\n",
       "    <tr>\n",
       "      <th>1</th>\n",
       "      <td>Launch your own delivery service. This will shorten delivery time</td>\n",
       "      <td>2</td>\n",
       "      <td>5</td>\n",
       "      <td>4</td>\n",
       "      <td>10</td>\n",
       "      <td>2.000000</td>\n",
       "    </tr>\n",
       "    <tr>\n",
       "      <th>5</th>\n",
       "      <td>Add a customer review page. This will increase the number of orders</td>\n",
       "      <td>3</td>\n",
       "      <td>2</td>\n",
       "      <td>2</td>\n",
       "      <td>3</td>\n",
       "      <td>1.333333</td>\n",
       "    </tr>\n",
       "    <tr>\n",
       "      <th>3</th>\n",
       "      <td>Change the category structure. This will increase conversion since users will find the products they want more quickly</td>\n",
       "      <td>8</td>\n",
       "      <td>3</td>\n",
       "      <td>3</td>\n",
       "      <td>8</td>\n",
       "      <td>1.125000</td>\n",
       "    </tr>\n",
       "    <tr>\n",
       "      <th>4</th>\n",
       "      <td>Change the background color on the main page. This will increase user engagement</td>\n",
       "      <td>3</td>\n",
       "      <td>1</td>\n",
       "      <td>1</td>\n",
       "      <td>1</td>\n",
       "      <td>1.000000</td>\n",
       "    </tr>\n",
       "  </tbody>\n",
       "</table>\n",
       "</div>"
      ],
      "text/plain": [
       "                                                                                                               Hypothesis  \\\n",
       "8                                                        Launch a promotion that gives users discounts on their birthdays   \n",
       "0                                             Add two new channels for attracting traffic. This will bring 30% more users   \n",
       "7                                Add a subscription form to all the main pages. This will help you compile a mailing list   \n",
       "6                                 Show banners with current offers and sales on the main page. This will boost conversion   \n",
       "2          Add product recommendation blocks to the store's site. This will increase conversion and average purchase size   \n",
       "1                                                       Launch your own delivery service. This will shorten delivery time   \n",
       "5                                                     Add a customer review page. This will increase the number of orders   \n",
       "3  Change the category structure. This will increase conversion since users will find the products they want more quickly   \n",
       "4                                        Change the background color on the main page. This will increase user engagement   \n",
       "\n",
       "   Reach  Impact  Confidence  Effort        ICE  \n",
       "8      1       9           9       5  16.200000  \n",
       "0      3      10           8       6  13.333333  \n",
       "7     10       7           8       5  11.200000  \n",
       "6      5       3           8       3   8.000000  \n",
       "2      8       3           7       3   7.000000  \n",
       "1      2       5           4      10   2.000000  \n",
       "5      3       2           2       3   1.333333  \n",
       "3      8       3           3       8   1.125000  \n",
       "4      3       1           1       1   1.000000  "
      ]
     },
     "execution_count": 16,
     "metadata": {},
     "output_type": "execute_result"
    }
   ],
   "source": [
    "# ordenamos por el valor 'ICE'\n",
    "pd.set_option('display.max_colwidth', 120)\n",
    "data_hypotheses.sort_values('ICE',ascending=False)"
   ]
  },
  {
   "cell_type": "markdown",
   "metadata": {},
   "source": [
    "---\n",
    "**Usando el parámetro `'ICE'` tenemos que las hipótesis más prometedoras son la 8, 0, 7 y 6.**"
   ]
  },
  {
   "cell_type": "markdown",
   "metadata": {},
   "source": [
    "### Framework RICE"
   ]
  },
  {
   "cell_type": "code",
   "execution_count": 17,
   "metadata": {},
   "outputs": [],
   "source": [
    "# calculamos el 'RICE score'\n",
    "data_hypotheses['RICE']=data_hypotheses.Reach*data_hypotheses.Impact*data_hypotheses.Confidence/data_hypotheses.Effort"
   ]
  },
  {
   "cell_type": "code",
   "execution_count": 18,
   "metadata": {
    "tags": []
   },
   "outputs": [
    {
     "data": {
      "text/html": [
       "<div>\n",
       "<style scoped>\n",
       "    .dataframe tbody tr th:only-of-type {\n",
       "        vertical-align: middle;\n",
       "    }\n",
       "\n",
       "    .dataframe tbody tr th {\n",
       "        vertical-align: top;\n",
       "    }\n",
       "\n",
       "    .dataframe thead th {\n",
       "        text-align: right;\n",
       "    }\n",
       "</style>\n",
       "<table border=\"1\" class=\"dataframe\">\n",
       "  <thead>\n",
       "    <tr style=\"text-align: right;\">\n",
       "      <th></th>\n",
       "      <th>Hypothesis</th>\n",
       "      <th>Reach</th>\n",
       "      <th>Impact</th>\n",
       "      <th>Confidence</th>\n",
       "      <th>Effort</th>\n",
       "      <th>ICE</th>\n",
       "      <th>RICE</th>\n",
       "    </tr>\n",
       "  </thead>\n",
       "  <tbody>\n",
       "    <tr>\n",
       "      <th>7</th>\n",
       "      <td>Add a subscription form to all the main pages. This will help you compile a mailing list</td>\n",
       "      <td>10</td>\n",
       "      <td>7</td>\n",
       "      <td>8</td>\n",
       "      <td>5</td>\n",
       "      <td>11.200000</td>\n",
       "      <td>112.0</td>\n",
       "    </tr>\n",
       "    <tr>\n",
       "      <th>2</th>\n",
       "      <td>Add product recommendation blocks to the store's site. This will increase conversion and average purchase size</td>\n",
       "      <td>8</td>\n",
       "      <td>3</td>\n",
       "      <td>7</td>\n",
       "      <td>3</td>\n",
       "      <td>7.000000</td>\n",
       "      <td>56.0</td>\n",
       "    </tr>\n",
       "    <tr>\n",
       "      <th>0</th>\n",
       "      <td>Add two new channels for attracting traffic. This will bring 30% more users</td>\n",
       "      <td>3</td>\n",
       "      <td>10</td>\n",
       "      <td>8</td>\n",
       "      <td>6</td>\n",
       "      <td>13.333333</td>\n",
       "      <td>40.0</td>\n",
       "    </tr>\n",
       "    <tr>\n",
       "      <th>6</th>\n",
       "      <td>Show banners with current offers and sales on the main page. This will boost conversion</td>\n",
       "      <td>5</td>\n",
       "      <td>3</td>\n",
       "      <td>8</td>\n",
       "      <td>3</td>\n",
       "      <td>8.000000</td>\n",
       "      <td>40.0</td>\n",
       "    </tr>\n",
       "    <tr>\n",
       "      <th>8</th>\n",
       "      <td>Launch a promotion that gives users discounts on their birthdays</td>\n",
       "      <td>1</td>\n",
       "      <td>9</td>\n",
       "      <td>9</td>\n",
       "      <td>5</td>\n",
       "      <td>16.200000</td>\n",
       "      <td>16.2</td>\n",
       "    </tr>\n",
       "    <tr>\n",
       "      <th>3</th>\n",
       "      <td>Change the category structure. This will increase conversion since users will find the products they want more quickly</td>\n",
       "      <td>8</td>\n",
       "      <td>3</td>\n",
       "      <td>3</td>\n",
       "      <td>8</td>\n",
       "      <td>1.125000</td>\n",
       "      <td>9.0</td>\n",
       "    </tr>\n",
       "    <tr>\n",
       "      <th>1</th>\n",
       "      <td>Launch your own delivery service. This will shorten delivery time</td>\n",
       "      <td>2</td>\n",
       "      <td>5</td>\n",
       "      <td>4</td>\n",
       "      <td>10</td>\n",
       "      <td>2.000000</td>\n",
       "      <td>4.0</td>\n",
       "    </tr>\n",
       "    <tr>\n",
       "      <th>5</th>\n",
       "      <td>Add a customer review page. This will increase the number of orders</td>\n",
       "      <td>3</td>\n",
       "      <td>2</td>\n",
       "      <td>2</td>\n",
       "      <td>3</td>\n",
       "      <td>1.333333</td>\n",
       "      <td>4.0</td>\n",
       "    </tr>\n",
       "    <tr>\n",
       "      <th>4</th>\n",
       "      <td>Change the background color on the main page. This will increase user engagement</td>\n",
       "      <td>3</td>\n",
       "      <td>1</td>\n",
       "      <td>1</td>\n",
       "      <td>1</td>\n",
       "      <td>1.000000</td>\n",
       "      <td>3.0</td>\n",
       "    </tr>\n",
       "  </tbody>\n",
       "</table>\n",
       "</div>"
      ],
      "text/plain": [
       "                                                                                                               Hypothesis  \\\n",
       "7                                Add a subscription form to all the main pages. This will help you compile a mailing list   \n",
       "2          Add product recommendation blocks to the store's site. This will increase conversion and average purchase size   \n",
       "0                                             Add two new channels for attracting traffic. This will bring 30% more users   \n",
       "6                                 Show banners with current offers and sales on the main page. This will boost conversion   \n",
       "8                                                        Launch a promotion that gives users discounts on their birthdays   \n",
       "3  Change the category structure. This will increase conversion since users will find the products they want more quickly   \n",
       "1                                                       Launch your own delivery service. This will shorten delivery time   \n",
       "5                                                     Add a customer review page. This will increase the number of orders   \n",
       "4                                        Change the background color on the main page. This will increase user engagement   \n",
       "\n",
       "   Reach  Impact  Confidence  Effort        ICE   RICE  \n",
       "7     10       7           8       5  11.200000  112.0  \n",
       "2      8       3           7       3   7.000000   56.0  \n",
       "0      3      10           8       6  13.333333   40.0  \n",
       "6      5       3           8       3   8.000000   40.0  \n",
       "8      1       9           9       5  16.200000   16.2  \n",
       "3      8       3           3       8   1.125000    9.0  \n",
       "1      2       5           4      10   2.000000    4.0  \n",
       "5      3       2           2       3   1.333333    4.0  \n",
       "4      3       1           1       1   1.000000    3.0  "
      ]
     },
     "execution_count": 18,
     "metadata": {},
     "output_type": "execute_result"
    }
   ],
   "source": [
    "# ordenamos por el valor 'RICE'\n",
    "data_hypotheses.sort_values('RICE',ascending=False)"
   ]
  },
  {
   "cell_type": "code",
   "execution_count": 19,
   "metadata": {},
   "outputs": [
    {
     "data": {
      "image/png": "[encoded data removed]",
      "text/plain": [
       "<Figure size 1000x500 with 1 Axes>"
      ]
     },
     "metadata": {},
     "output_type": "display_data"
    }
   ],
   "source": [
    "# creamos un gráfico de scatter para observar mejor el comportamiento de 'ICE' y 'RICE'\n",
    "plt.subplots(figsize=(10,5))\n",
    "\n",
    "# Trazar el gráfico de 'ICE' vs 'RICE'\n",
    "colores=['blue','gray','purple','orange','brown','black','green','red','gray']\n",
    "sns.scatterplot(data=data_hypotheses,x='ICE',y='RICE',hue=data_hypotheses.index,palette=colores)\n",
    "plt.title(\"Gráfico 'ICE' vs 'RICE'\")\n",
    "#plt.ylabel('Revenue')\n",
    "plt.xticks(rotation=45)\n",
    "plt.show()"
   ]
  },
  {
   "cell_type": "markdown",
   "metadata": {},
   "source": [
    "---\n",
    "**Usando el parámetro `'RICE'` tenemos que las hipótesis más prometedoras son la 7, 2, 0 y 6. Parece lógico que al obtener una lista de mails se puedan enviar ofertas por e-mail, que mostrar recomendaciones de productos o que adicionar nuevos canales de tráfico nos permita atraer nuevos clientes. Esto se debe a que obtener una lista de mails nos ayudará a tener más alcance con los posibles compradores.** Las hipótesis 7 y 2 tienen alto alcance pero la hipótesis 0 es la que tiene el mayor impacto. Teniendo todas estas un esfuerzo intermedio.\n",
    "\n",
    "Las hipótesis cero, seis y siete aparecen dentro de los cuatro primeros lugares en los framework `'ICE'` y `'RICE'`.\n",
    "Cuando graficamos `'ICE'` vs `'RICE'`, podemos observar que la hipótesis siete es la que presenta la mejor evaluación con respecto a las demás hipótesis. `'RICE'` es el valor de `'ICE'` ponderado por el factor de alcance que una hipótesis tiene sobre los usuarios.\n",
    "\n",
    "**Al parecer, la hipótesis 7 es la mejor posicionada considerando ambas alternativas, ya que esta hipótesis es la que se espera tenga el mayor alcance en los usuarios. Por lo cual, se recomienda adicionar una forma de suscripción para todos en la página principal y poder obtener así una lista de emails.**"
   ]
  },
  {
   "cell_type": "code",
   "execution_count": 20,
   "metadata": {},
   "outputs": [],
   "source": [
    "# reestablecemos el ancho de las columnas\n",
    "pd.set_option('display.max_colwidth', 50)"
   ]
  },
  {
   "cell_type": "markdown",
   "metadata": {},
   "source": [
    "[Volver a contenidos](#contenidos)\n",
    "## Parte 2. Test A/B"
   ]
  },
  {
   "cell_type": "markdown",
   "metadata": {},
   "source": [
    "### Preprocesamiento de los datos\n",
    "\n",
    "Vamos a preparar los set de datos para asegurar que cumplen las condiciones para empezar el análisis."
   ]
  },
  {
   "cell_type": "code",
   "execution_count": 21,
   "metadata": {},
   "outputs": [
    {
     "name": "stdout",
     "output_type": "stream",
     "text": [
      "<class 'pandas.core.frame.DataFrame'>\n",
      "RangeIndex: 62 entries, 0 to 61\n",
      "Data columns (total 3 columns):\n",
      " #   Column  Non-Null Count  Dtype         \n",
      "---  ------  --------------  -----         \n",
      " 0   date    62 non-null     datetime64[ns]\n",
      " 1   group   62 non-null     object        \n",
      " 2   visits  62 non-null     int64         \n",
      "dtypes: datetime64[ns](1), int64(1), object(1)\n",
      "memory usage: 1.6+ KB\n"
     ]
    }
   ],
   "source": [
    "# revisamos el set que contiene las visitas realizadas\n",
    "data_visits.info()"
   ]
  },
  {
   "cell_type": "code",
   "execution_count": 22,
   "metadata": {},
   "outputs": [
    {
     "data": {
      "text/plain": [
       "B    31\n",
       "A    31\n",
       "Name: group, dtype: int64"
      ]
     },
     "execution_count": 22,
     "metadata": {},
     "output_type": "execute_result"
    }
   ],
   "source": [
    "# revisamos las caracteristicas de los grupos\n",
    "data_visits['group'].value_counts()"
   ]
  },
  {
   "cell_type": "code",
   "execution_count": 23,
   "metadata": {},
   "outputs": [
    {
     "name": "stdout",
     "output_type": "stream",
     "text": [
      "<class 'pandas.core.frame.DataFrame'>\n",
      "RangeIndex: 1197 entries, 0 to 1196\n",
      "Data columns (total 5 columns):\n",
      " #   Column         Non-Null Count  Dtype         \n",
      "---  ------         --------------  -----         \n",
      " 0   transactionId  1197 non-null   int64         \n",
      " 1   visitorId      1197 non-null   int64         \n",
      " 2   date           1197 non-null   datetime64[ns]\n",
      " 3   revenue        1197 non-null   float64       \n",
      " 4   group          1197 non-null   object        \n",
      "dtypes: datetime64[ns](1), float64(1), int64(2), object(1)\n",
      "memory usage: 46.9+ KB\n"
     ]
    }
   ],
   "source": [
    "# revisamos el set que contiene las compras\n",
    "data_orders.info()"
   ]
  },
  {
   "cell_type": "code",
   "execution_count": 24,
   "metadata": {},
   "outputs": [
    {
     "data": {
      "text/plain": [
       "B    640\n",
       "A    557\n",
       "Name: group, dtype: int64"
      ]
     },
     "execution_count": 24,
     "metadata": {},
     "output_type": "execute_result"
    }
   ],
   "source": [
    "# revisamos las caracteristicas de los grupos\n",
    "data_orders['group'].value_counts()"
   ]
  },
  {
   "cell_type": "markdown",
   "metadata": {},
   "source": [
    "Podemos observar que no hay valores nulos en ninguno de los set de datos.\n",
    "\n",
    "Aseguremonos que cada uno de los clientes que realizaron una compra aparece en uno solo de los grupos, para poder decir que los resultados de la prueba A/B serán válidos."
   ]
  },
  {
   "cell_type": "code",
   "execution_count": 25,
   "metadata": {},
   "outputs": [
    {
     "data": {
      "text/plain": [
       "(503,)"
      ]
     },
     "execution_count": 25,
     "metadata": {},
     "output_type": "execute_result"
    }
   ],
   "source": [
    "# obtenemos la lista de los clientes del grupo A\n",
    "list_clientsA=data_orders[data_orders['group']=='A']['visitorId'].unique()\n",
    "list_clientsA.shape"
   ]
  },
  {
   "cell_type": "code",
   "execution_count": 26,
   "metadata": {},
   "outputs": [
    {
     "data": {
      "text/plain": [
       "(586,)"
      ]
     },
     "execution_count": 26,
     "metadata": {},
     "output_type": "execute_result"
    }
   ],
   "source": [
    "# obtenemos la lista de los clientes del grupo B\n",
    "list_clientsB=data_orders[data_orders['group']=='B']['visitorId'].unique()\n",
    "list_clientsB.shape"
   ]
  },
  {
   "cell_type": "code",
   "execution_count": 27,
   "metadata": {},
   "outputs": [
    {
     "name": "stdout",
     "output_type": "stream",
     "text": [
      "Hay 58 usuarios que aparecen en ambos grupos.\n"
     ]
    }
   ],
   "source": [
    "\"\"\"creamos dos conjuntos con los 'visitorId' de cada grupo y buscamos su intersección para ver los usuarios que \n",
    "aparecen en ambos conjuntos\"\"\"\n",
    "\n",
    "set1 = set(list_clientsA)\n",
    "set2 = set(list_clientsB)\n",
    "\n",
    "set3 = set1 & set2\n",
    "\n",
    "# usuarios en ambos grupos\n",
    "list_clientsAB = list(set3)\n",
    "print(f'Hay {len(list_clientsAB)} usuarios que aparecen en ambos grupos.')"
   ]
  },
  {
   "cell_type": "code",
   "execution_count": 28,
   "metadata": {},
   "outputs": [
    {
     "data": {
      "text/html": [
       "<div>\n",
       "<style scoped>\n",
       "    .dataframe tbody tr th:only-of-type {\n",
       "        vertical-align: middle;\n",
       "    }\n",
       "\n",
       "    .dataframe tbody tr th {\n",
       "        vertical-align: top;\n",
       "    }\n",
       "\n",
       "    .dataframe thead th {\n",
       "        text-align: right;\n",
       "    }\n",
       "</style>\n",
       "<table border=\"1\" class=\"dataframe\">\n",
       "  <thead>\n",
       "    <tr style=\"text-align: right;\">\n",
       "      <th></th>\n",
       "      <th>transactionId</th>\n",
       "      <th>visitorId</th>\n",
       "      <th>date</th>\n",
       "      <th>revenue</th>\n",
       "      <th>group</th>\n",
       "    </tr>\n",
       "  </thead>\n",
       "  <tbody>\n",
       "    <tr>\n",
       "      <th>703</th>\n",
       "      <td>4293855558</td>\n",
       "      <td>8300375</td>\n",
       "      <td>2019-08-07</td>\n",
       "      <td>30.5</td>\n",
       "      <td>A</td>\n",
       "    </tr>\n",
       "    <tr>\n",
       "      <th>71</th>\n",
       "      <td>3679129301</td>\n",
       "      <td>8300375</td>\n",
       "      <td>2019-08-01</td>\n",
       "      <td>165.7</td>\n",
       "      <td>B</td>\n",
       "    </tr>\n",
       "    <tr>\n",
       "      <th>823</th>\n",
       "      <td>2971973105</td>\n",
       "      <td>199603092</td>\n",
       "      <td>2019-08-27</td>\n",
       "      <td>45.9</td>\n",
       "      <td>A</td>\n",
       "    </tr>\n",
       "    <tr>\n",
       "      <th>246</th>\n",
       "      <td>437656952</td>\n",
       "      <td>199603092</td>\n",
       "      <td>2019-08-02</td>\n",
       "      <td>55.7</td>\n",
       "      <td>B</td>\n",
       "    </tr>\n",
       "    <tr>\n",
       "      <th>26</th>\n",
       "      <td>2223239646</td>\n",
       "      <td>199603092</td>\n",
       "      <td>2019-08-15</td>\n",
       "      <td>55.7</td>\n",
       "      <td>A</td>\n",
       "    </tr>\n",
       "    <tr>\n",
       "      <th>134</th>\n",
       "      <td>62794304</td>\n",
       "      <td>199603092</td>\n",
       "      <td>2019-08-22</td>\n",
       "      <td>110.3</td>\n",
       "      <td>A</td>\n",
       "    </tr>\n",
       "    <tr>\n",
       "      <th>1102</th>\n",
       "      <td>1941707234</td>\n",
       "      <td>199603092</td>\n",
       "      <td>2019-08-12</td>\n",
       "      <td>100.0</td>\n",
       "      <td>A</td>\n",
       "    </tr>\n",
       "    <tr>\n",
       "      <th>1009</th>\n",
       "      <td>2670069237</td>\n",
       "      <td>232979603</td>\n",
       "      <td>2019-08-31</td>\n",
       "      <td>45.6</td>\n",
       "      <td>B</td>\n",
       "    </tr>\n",
       "    <tr>\n",
       "      <th>1013</th>\n",
       "      <td>83566152</td>\n",
       "      <td>232979603</td>\n",
       "      <td>2019-08-31</td>\n",
       "      <td>5.9</td>\n",
       "      <td>A</td>\n",
       "    </tr>\n",
       "    <tr>\n",
       "      <th>590</th>\n",
       "      <td>3702128013</td>\n",
       "      <td>237748145</td>\n",
       "      <td>2019-08-20</td>\n",
       "      <td>20.8</td>\n",
       "      <td>A</td>\n",
       "    </tr>\n",
       "  </tbody>\n",
       "</table>\n",
       "</div>"
      ],
      "text/plain": [
       "      transactionId  visitorId       date  revenue group\n",
       "703      4293855558    8300375 2019-08-07     30.5     A\n",
       "71       3679129301    8300375 2019-08-01    165.7     B\n",
       "823      2971973105  199603092 2019-08-27     45.9     A\n",
       "246       437656952  199603092 2019-08-02     55.7     B\n",
       "26       2223239646  199603092 2019-08-15     55.7     A\n",
       "134        62794304  199603092 2019-08-22    110.3     A\n",
       "1102     1941707234  199603092 2019-08-12    100.0     A\n",
       "1009     2670069237  232979603 2019-08-31     45.6     B\n",
       "1013       83566152  232979603 2019-08-31      5.9     A\n",
       "590      3702128013  237748145 2019-08-20     20.8     A"
      ]
     },
     "execution_count": 28,
     "metadata": {},
     "output_type": "execute_result"
    }
   ],
   "source": [
    "# verifiquemos que efectivamente esos usuarios aparecen en ambos grupos\n",
    "data_orders[data_orders['visitorId'].isin(list_clientsAB)].sort_values('visitorId').head(10)"
   ]
  },
  {
   "cell_type": "code",
   "execution_count": 29,
   "metadata": {},
   "outputs": [
    {
     "data": {
      "text/plain": [
       "(181, 5)"
      ]
     },
     "execution_count": 29,
     "metadata": {},
     "output_type": "execute_result"
    }
   ],
   "source": [
    "# veamos cuantas compras fueron realizadas por estos usuarios\n",
    "data_orders[data_orders['visitorId'].isin(list_clientsAB)].shape"
   ]
  },
  {
   "cell_type": "markdown",
   "metadata": {},
   "source": [
    "Tenemos 181 compras realizadas por los 58 usuarios que aparecen en ambos grupos. Vamos a eliminar estas compras realizadas por estos usuarios para que los resultados de la prueba A/B sean válidos."
   ]
  },
  {
   "cell_type": "code",
   "execution_count": 30,
   "metadata": {},
   "outputs": [
    {
     "data": {
      "text/plain": [
       "(1016, 5)"
      ]
     },
     "execution_count": 30,
     "metadata": {},
     "output_type": "execute_result"
    }
   ],
   "source": [
    "# creamos un set de datos de las compras sin las compras realizadas por los usuarios pertenecientes a ambos grupos\n",
    "data_orders_AB=data_orders[~data_orders['visitorId'].isin(list_clientsAB)].copy()\n",
    "\n",
    "# revisamos el tamaño del dataframe creado\n",
    "data_orders_AB.shape"
   ]
  },
  {
   "cell_type": "markdown",
   "metadata": {},
   "source": [
    "[Volver a contenidos](#contenidos)\n",
    "### Ingresos acumulados por grupo"
   ]
  },
  {
   "cell_type": "code",
   "execution_count": 31,
   "metadata": {},
   "outputs": [],
   "source": [
    "# creamos una matriz con valores únicos de parejas fecha-grupo\n",
    "dates_group=data_orders_AB[['date','group']].drop_duplicates()"
   ]
  },
  {
   "cell_type": "code",
   "execution_count": 32,
   "metadata": {},
   "outputs": [],
   "source": [
    "# obtenemos los ingresos diarios acumulados\n",
    "orders_aggregated = dates_group.apply(lambda x: data_orders_AB[np.logical_and(data_orders_AB['date'] <= x['date'],\\\n",
    "                                        data_orders_AB['group'] == x['group'])]\\\n",
    "                                      .agg({'date' : 'max', 'group' : 'max', 'transactionId' : pd.Series.nunique,\\\n",
    "                                            'visitorId' : pd.Series.nunique, 'revenue' : 'sum'}), axis=1)\\\n",
    "                                        .sort_values(by=['date','group'])\n",
    "orders_aggregated.columns=['date','group','orders','buyers','revenue']"
   ]
  },
  {
   "cell_type": "code",
   "execution_count": 33,
   "metadata": {},
   "outputs": [],
   "source": [
    "# obtenemos las visitas diarias acumuladas\n",
    "visits_aggregated = dates_group.apply(lambda x: data_visits[np.logical_and(data_visits['date'] <= x['date'],\\\n",
    "                                    data_visits['group'] == x['group'])].agg({'date' : 'max', 'group' : 'max',\\\n",
    "                                    'visits' : 'sum'}), axis=1).sort_values(by=['date','group'])\n",
    "visits_aggregated.columns=['date','group','visits']"
   ]
  },
  {
   "cell_type": "code",
   "execution_count": 34,
   "metadata": {},
   "outputs": [
    {
     "data": {
      "text/html": [
       "<div>\n",
       "<style scoped>\n",
       "    .dataframe tbody tr th:only-of-type {\n",
       "        vertical-align: middle;\n",
       "    }\n",
       "\n",
       "    .dataframe tbody tr th {\n",
       "        vertical-align: top;\n",
       "    }\n",
       "\n",
       "    .dataframe thead th {\n",
       "        text-align: right;\n",
       "    }\n",
       "</style>\n",
       "<table border=\"1\" class=\"dataframe\">\n",
       "  <thead>\n",
       "    <tr style=\"text-align: right;\">\n",
       "      <th></th>\n",
       "      <th>date</th>\n",
       "      <th>group</th>\n",
       "      <th>orders</th>\n",
       "      <th>buyers</th>\n",
       "      <th>revenue</th>\n",
       "      <th>visits</th>\n",
       "    </tr>\n",
       "  </thead>\n",
       "  <tbody>\n",
       "    <tr>\n",
       "      <th>41</th>\n",
       "      <td>2019-08-21</td>\n",
       "      <td>B</td>\n",
       "      <td>380</td>\n",
       "      <td>370</td>\n",
       "      <td>61274.4</td>\n",
       "      <td>12874</td>\n",
       "    </tr>\n",
       "  </tbody>\n",
       "</table>\n",
       "</div>"
      ],
      "text/plain": [
       "         date group  orders  buyers  revenue  visits\n",
       "41 2019-08-21     B     380     370  61274.4   12874"
      ]
     },
     "execution_count": 34,
     "metadata": {},
     "output_type": "execute_result"
    }
   ],
   "source": [
    "# fusionamos los ingresos acumulados con la tabla de visitas\n",
    "cumulative_data = orders_aggregated.merge(visits_aggregated,on=['date','group'])\n",
    "cumulative_data.sample()"
   ]
  },
  {
   "cell_type": "code",
   "execution_count": 35,
   "metadata": {},
   "outputs": [
    {
     "data": {
      "image/png": "[encoded data removed]",
      "text/plain": [
       "<Figure size 1000x500 with 1 Axes>"
      ]
     },
     "metadata": {},
     "output_type": "display_data"
    }
   ],
   "source": [
    "\"\"\"Creamos el gráfico del monto de pedidos acumulados por grupo\"\"\"\n",
    "\n",
    "# DataFrame con pedidos acumulados e ingresos acumulados por día, grupo A\n",
    "cumulative_revenueA = cumulative_data[cumulative_data['group']=='A'][['date','revenue', 'orders']]\n",
    "\n",
    "# DataFrame con pedidos acumulados e ingresos acumulados por día, grupo B\n",
    "cumulative_revenueB = cumulative_data[cumulative_data['group']=='B'][['date','revenue', 'orders']]\n",
    "\n",
    "plt.subplots(figsize=(10,5))\n",
    "# Trazar el gráfico de ingresos del grupo A\n",
    "plt.plot(cumulative_revenueA['date'], cumulative_revenueA['revenue'], label='A')\n",
    "\n",
    "# Trazar el gráfico de ingresos del grupo B\n",
    "plt.plot(cumulative_revenueB['date'], cumulative_revenueB['revenue'], label='B')\n",
    "plt.title('Gráfico del monto de pedidos acumulados por grupo')\n",
    "plt.ylabel('Revenue')\n",
    "plt.xticks(rotation=45)\n",
    "plt.legend()\n",
    "plt.show()"
   ]
  },
  {
   "cell_type": "markdown",
   "metadata": {},
   "source": [
    "Podemos notar en el gráfico anterior que **los ingresos del grupo B tienen un cambio muy brusco en un punto de la gráfica. Lo que nos puede implicar un aumento en la cantidad de pedidos o de pedidos muy caros (valores extremos)** en el grupo a partir de esa fecha. Los ingresos del grupo A parecen más estables."
   ]
  },
  {
   "cell_type": "markdown",
   "metadata": {
    "tags": []
   },
   "source": [
    "[Volver a contenidos](#contenidos)\n",
    "### Tamaño de pedido promedio acumulado por grupo"
   ]
  },
  {
   "cell_type": "code",
   "execution_count": 36,
   "metadata": {},
   "outputs": [
    {
     "data": {
      "image/png": "[encoded data removed]",
      "text/plain": [
       "<Figure size 1000x500 with 1 Axes>"
      ]
     },
     "metadata": {},
     "output_type": "display_data"
    }
   ],
   "source": [
    "\"\"\"Creamos el gráfico del monto promedio por grupo\"\"\"\n",
    "\n",
    "plt.subplots(figsize=(10,5))\n",
    "\n",
    "plt.plot(cumulative_revenueA['date'], cumulative_revenueA['revenue']/cumulative_revenueA['orders'], label='A')\n",
    "plt.plot(cumulative_revenueB['date'], cumulative_revenueB['revenue']/cumulative_revenueB['orders'], label='B')\n",
    "plt.title('Gráfico del monto de pedido promedio acumulado por grupo')\n",
    "plt.ylabel('Revenue')\n",
    "plt.xticks(rotation=45)\n",
    "plt.legend()\n",
    "plt.show()"
   ]
  },
  {
   "cell_type": "markdown",
   "metadata": {},
   "source": [
    "Podemos notar en el gráfico anterior que **el grupo B tuvo un cambio muy brusco en un punto de la gráfica y posteriormente volvió a decrecer, lo que puede ser un indicativo de que hubo pedidos muy caros en esa fecha (valores extremos).** Para el grupo A el tamaño promedio se estabilizó a esas fechas. El tamaño de compra promedio para el grupo B continúa sin estabilizarse por lo que se necesitan más datos para encontrar ese tamaño y establecer su nivel."
   ]
  },
  {
   "cell_type": "markdown",
   "metadata": {},
   "source": [
    "[Volver a contenidos](#contenidos)\n",
    "### Diferencia relativa en el monto de pedido promedio acumulado para el grupo B en comparación con el grupo A"
   ]
  },
  {
   "cell_type": "markdown",
   "metadata": {},
   "source": [
    "Para crear el gráfico de diferencia relativa para los montos de compra promedio **necesitamos reunir los set de datos que contienen los pedidos e ingresos acumulados por día para cada grupo, 'cumulative_revenueA' y 'cumulative_revenueB'.**"
   ]
  },
  {
   "cell_type": "code",
   "execution_count": 37,
   "metadata": {},
   "outputs": [],
   "source": [
    "# fusionamos los dataframe 'cumulative_revenueA' y 'cumulative_revenueB'\n",
    "merged_cumulative_revenue = cumulative_revenueA.merge(cumulative_revenueB,on='date', how='left', suffixes=['A', 'B'])"
   ]
  },
  {
   "cell_type": "code",
   "execution_count": 38,
   "metadata": {},
   "outputs": [
    {
     "data": {
      "text/html": [
       "<div>\n",
       "<style scoped>\n",
       "    .dataframe tbody tr th:only-of-type {\n",
       "        vertical-align: middle;\n",
       "    }\n",
       "\n",
       "    .dataframe tbody tr th {\n",
       "        vertical-align: top;\n",
       "    }\n",
       "\n",
       "    .dataframe thead th {\n",
       "        text-align: right;\n",
       "    }\n",
       "</style>\n",
       "<table border=\"1\" class=\"dataframe\">\n",
       "  <thead>\n",
       "    <tr style=\"text-align: right;\">\n",
       "      <th></th>\n",
       "      <th>date</th>\n",
       "      <th>revenueA</th>\n",
       "      <th>ordersA</th>\n",
       "      <th>revenueB</th>\n",
       "      <th>ordersB</th>\n",
       "    </tr>\n",
       "  </thead>\n",
       "  <tbody>\n",
       "    <tr>\n",
       "      <th>2</th>\n",
       "      <td>2019-08-03</td>\n",
       "      <td>5550.1</td>\n",
       "      <td>66</td>\n",
       "      <td>4606.9</td>\n",
       "      <td>54</td>\n",
       "    </tr>\n",
       "  </tbody>\n",
       "</table>\n",
       "</div>"
      ],
      "text/plain": [
       "        date  revenueA  ordersA  revenueB  ordersB\n",
       "2 2019-08-03    5550.1       66    4606.9       54"
      ]
     },
     "execution_count": 38,
     "metadata": {},
     "output_type": "execute_result"
    }
   ],
   "source": [
    "# echamos un vistazo a los datos\n",
    "merged_cumulative_revenue.sample()"
   ]
  },
  {
   "cell_type": "code",
   "execution_count": 39,
   "metadata": {},
   "outputs": [
    {
     "data": {
      "image/png": "[encoded data removed]",
      "text/plain": [
       "<Figure size 1000x500 with 1 Axes>"
      ]
     },
     "metadata": {},
     "output_type": "display_data"
    }
   ],
   "source": [
    "\"\"\"Creamos el gráfico de diferencia relativa para los montos de compra promedio\"\"\"\n",
    "\n",
    "plt.subplots(figsize=(10,5))\n",
    "plt.plot(merged_cumulative_revenue['date'], (merged_cumulative_revenue['revenueB']/merged_cumulative_revenue['ordersB'])\\\n",
    "         /(merged_cumulative_revenue['revenueA']/merged_cumulative_revenue['ordersA'])-1,color='red')\n",
    "plt.title('Gráfico de diferencia relativa para los montos de compra promedio')\n",
    "\n",
    "# agregamos una línea horizontal en y=0\n",
    "plt.axhline(y=0, color='blue', linestyle='--')\n",
    "plt.xticks(rotation=45,ha='right')\n",
    "plt.show()"
   ]
  },
  {
   "cell_type": "markdown",
   "metadata": {},
   "source": [
    "Podemos observar que **no se ha alcanzado una estabilización en la diferencia relativa para los montos de compra promedio, pero que parece estar disminuyendo.** Podemos optar por esperar a que el monto de compra promedio acumulado para el grupo B continúe disminuyendo o en su caso parar la prueba.\n",
    "\n",
    "En varios puntos, la diferencia entre los segmentos aumenta. **Puede ser que haya algunos pedidos muy grandes o valores atípicos.**"
   ]
  },
  {
   "cell_type": "markdown",
   "metadata": {},
   "source": [
    "[Volver a contenidos](#contenidos)\n",
    "### Tasa de conversión de cada grupo"
   ]
  },
  {
   "cell_type": "code",
   "execution_count": 40,
   "metadata": {},
   "outputs": [],
   "source": [
    "# calculamos la tasa de conversión acumulada para cada grupo\n",
    "cumulative_data['conversion']=cumulative_data['orders']/cumulative_data['visits']"
   ]
  },
  {
   "cell_type": "code",
   "execution_count": 41,
   "metadata": {},
   "outputs": [
    {
     "data": {
      "image/png": "[encoded data removed]",
      "text/plain": [
       "<Figure size 1000x500 with 1 Axes>"
      ]
     },
     "metadata": {},
     "output_type": "display_data"
    }
   ],
   "source": [
    "\"\"\"Creamos el gráfico de tasa de conversión acumulada por grupo\"\"\"\n",
    "\n",
    "# seleccionamos datos en el grupo A\n",
    "cumulative_dataA = cumulative_data[cumulative_data['group']=='A']\n",
    "\n",
    "# seleccionamos datos en el grupo B\n",
    "cumulative_dataB = cumulative_data[cumulative_data['group']=='B']\n",
    "\n",
    "plt.subplots(figsize=(10,5))\n",
    "# trazar los gráficos\n",
    "plt.plot(cumulative_dataA['date'], cumulative_dataA['conversion'], label='A')\n",
    "plt.plot(cumulative_dataB['date'], cumulative_dataB['conversion'], label='B')\n",
    "plt.title('Gráfico de tasa de conversión acumulada por grupo')\n",
    "plt.legend()\n",
    "plt.ylabel('Tasa de conversión')\n",
    "plt.ylim( 0.02, 0.04)\n",
    "plt.xticks(rotation=45)\n",
    "plt.show()"
   ]
  },
  {
   "cell_type": "markdown",
   "metadata": {},
   "source": [
    "Observamos fluctuaciones en la tasa de conversión acumulada para ambos grupos. Posiblemente como consecuencia de que haya días con demasiadas ordenes de compra. La tasa de conversión para ambos grupos parece estabilizarse."
   ]
  },
  {
   "cell_type": "markdown",
   "metadata": {},
   "source": [
    "[Volver a contenidos](#contenidos)\n",
    "### Diferencia relativa para las tasas de conversión acumuladas"
   ]
  },
  {
   "cell_type": "code",
   "execution_count": 42,
   "metadata": {},
   "outputs": [
    {
     "data": {
      "image/png": "[encoded data removed]",
      "text/plain": [
       "<Figure size 1000x500 with 1 Axes>"
      ]
     },
     "metadata": {},
     "output_type": "display_data"
    }
   ],
   "source": [
    "\"\"\"Creamos un gráfico para la diferencia relativa para las tasas de conversión acumuladas\"\"\"\n",
    "\n",
    "merged_cumulative_conversions = cumulative_dataA[['date','conversion']]\\\n",
    "                                .merge(cumulative_dataB[['date','conversion']],on='date',\\\n",
    "                                how='left', suffixes=['A', 'B'])\n",
    "\n",
    "plt.subplots(figsize=(10,5))\n",
    "plt.plot(merged_cumulative_conversions['date'], merged_cumulative_conversions['conversionB']\\\n",
    "         /merged_cumulative_conversions['conversionA']-1,color='r')\n",
    "plt.title('Gráfico para la diferencia relativa para las tasas de conversión acumuladas')\n",
    "plt.axhline(y=0, color='blue', linestyle='--')\n",
    "plt.axhline(y=0.1, color='grey', linestyle='--')\n",
    "plt.xticks(rotation=45,ha='right')\n",
    "plt.show()"
   ]
  },
  {
   "cell_type": "markdown",
   "metadata": {},
   "source": [
    "En general, el índice de conversión no es estable por lo que es demasiado pronto para sacar alguna conclusión. **Observamos que hay un crecimiento sostenido de las conversiones del grupo B y que parecen estabilizarse después del 9 de agosto.**"
   ]
  },
  {
   "cell_type": "markdown",
   "metadata": {},
   "source": [
    "[Volver a contenidos](#contenidos)\n",
    "### Dispersión del número de pedidos por usuario  \n",
    "Vamos a seguir haciendo uso del dataframe `'data_orders_AB'`, que ya no tiene usuarios duplicados en los dos grupos."
   ]
  },
  {
   "cell_type": "code",
   "execution_count": 43,
   "metadata": {
    "scrolled": true
   },
   "outputs": [],
   "source": [
    "# calculamos el número de pedidos por usuario\n",
    "orders_by_user=data_orders_AB.groupby('visitorId',as_index=False).agg(orders=('transactionId','nunique'))"
   ]
  },
  {
   "cell_type": "code",
   "execution_count": 44,
   "metadata": {},
   "outputs": [
    {
     "data": {
      "image/png": "[encoded data removed]",
      "text/plain": [
       "<Figure size 1200x500 with 2 Axes>"
      ]
     },
     "metadata": {},
     "output_type": "display_data"
    }
   ],
   "source": [
    "\"\"\"Creamos el histograma y el gráfico de dispersión para el número de pedidos por usuario\"\"\"\n",
    "x_values = pd.Series(range(0,len(orders_by_user)))\n",
    "\n",
    "\n",
    "fig,(ax1,ax2)=plt.subplots(1,2,figsize=(12,5))\n",
    "\n",
    "\n",
    "ax1.set_title('Histograma número de pedidos por usuario')\n",
    "ax1=orders_by_user['orders'].hist(ax=ax1,grid=False)\n",
    "\n",
    "ax2.set_title('Gráfico dispersión para el número de pedidos por usuario')\n",
    "ax2=plt.scatter(x_values, orders_by_user['orders'])\n",
    "\n",
    "plt.show()"
   ]
  },
  {
   "cell_type": "markdown",
   "metadata": {},
   "source": [
    "**La mayoría de los usuarios realizan un solo pedido. Una parte significativa hizo de dos a tres pedidos cada uno.**"
   ]
  },
  {
   "cell_type": "code",
   "execution_count": 45,
   "metadata": {},
   "outputs": [
    {
     "name": "stdout",
     "output_type": "stream",
     "text": [
      "[1. 1. 2.]\n"
     ]
    }
   ],
   "source": [
    "# calculamos los percentiles para el número de pedidos por usuario\n",
    "print(np.percentile(orders_by_user['orders'], [90, 95, 99]))"
   ]
  },
  {
   "cell_type": "markdown",
   "metadata": {},
   "source": [
    "No más del 5% realizaron más de un pedido y no más del 1% realizaron más de dos pedidos. **Establezcamos entonces dos como el límite del número de pedidos por usuario y filtremos las anomalías en base a ello.**"
   ]
  },
  {
   "cell_type": "markdown",
   "metadata": {},
   "source": [
    "[Volver a contenidos](#contenidos)\n",
    "### Dispersión de los montos de los pedidos"
   ]
  },
  {
   "cell_type": "code",
   "execution_count": 46,
   "metadata": {
    "tags": []
   },
   "outputs": [
    {
     "data": {
      "image/png": "[encoded data removed]",
      "text/plain": [
       "<Figure size 1200x500 with 2 Axes>"
      ]
     },
     "metadata": {},
     "output_type": "display_data"
    }
   ],
   "source": [
    "\"\"\"Creamos el histograma y el gráfico de dispersión para los montos de los pedidos\"\"\"\n",
    "x_values = pd.Series(range(0,data_orders_AB.shape[0]))\n",
    "\n",
    "\n",
    "fig,(ax1,ax2)=plt.subplots(1,2,figsize=(12,5))\n",
    "\n",
    "\n",
    "ax1.set_title('Histograma de los montos de los pedidos')\n",
    "ax1.set_xlim(0,3000)\n",
    "ax1=sns.histplot(data_orders_AB['revenue'],bins=100,ax=ax1)\n",
    "\n",
    "ax2.set_title('Gráfico dispersión para los montos de los pedidos')\n",
    "ax2=plt.scatter(x_values, data_orders_AB['revenue'])\n",
    "\n",
    "plt.show()"
   ]
  },
  {
   "cell_type": "code",
   "execution_count": 47,
   "metadata": {
    "tags": []
   },
   "outputs": [
    {
     "name": "stdout",
     "output_type": "stream",
     "text": [
      "[282.48  435.54  900.904]\n"
     ]
    }
   ],
   "source": [
    "# mostramos los percentiles de los montos de los pedidos\n",
    "print(np.percentile(data_orders['revenue'], [90, 95, 99]))"
   ]
  },
  {
   "cell_type": "code",
   "execution_count": 48,
   "metadata": {},
   "outputs": [
    {
     "data": {
      "text/plain": [
       "count     1197.000000\n",
       "mean       131.491646\n",
       "std        603.004729\n",
       "min          5.000000\n",
       "25%         20.800000\n",
       "50%         50.200000\n",
       "75%        130.400000\n",
       "max      19920.400000\n",
       "Name: revenue, dtype: float64"
      ]
     },
     "execution_count": 48,
     "metadata": {},
     "output_type": "execute_result"
    }
   ],
   "source": [
    "# mostramos las estadisticas para los montos de los pedidos\n",
    "data_orders['revenue'].describe()"
   ]
  },
  {
   "cell_type": "markdown",
   "metadata": {},
   "source": [
    "No más del 5% de los pedidos suman un monto de 435.54 y no más del 1% son superiores a 900.904. **Vamos a establecer 435 como el límite del monto de un pedido y filtraremos las anomalías en base a ello.** El gráfico nos permite observar claramente que existen valores extremos en `'revenue'`."
   ]
  },
  {
   "cell_type": "markdown",
   "metadata": {},
   "source": [
    "[Volver a contenidos](#contenidos)\n",
    "### Significancia estadística de la diferencia en las tasas de conversión entre los grupos utilizando los datos en bruto"
   ]
  },
  {
   "cell_type": "markdown",
   "metadata": {},
   "source": [
    "Para calcular la significancia estadística en las tasas de conversión vamos a crear dos dataframe para almacenar la cantidad de pedidos por usuario. **Emplearemos la prueba U de Mann-Whitney.**"
   ]
  },
  {
   "cell_type": "markdown",
   "metadata": {},
   "source": [
    "---\n",
    "**Supuestos en la prueba U de Mann-Whitney:**\n",
    "1. La variable dependiente debe medirse a nivel ordinal o continuo.\n",
    "1. La variable independiente debe consistir en dos grupos.\n",
    "1. Debe haber independencia de las observaciones de cada grupo.\n",
    "Esto significa que no hay relación entre las observaciones de cada grupo o entre los propios grupos. Por ejemplo, debe haber diferentes participantes en cada grupo y ningún participante debe estar en más de un grupo. **Este problema se solucionó en la etapa de preprocesamiento quitando los usuarios que aparecían en ambos grupos.**\n",
    "1. Las dos variables se distribuyen de forma anormal.\n",
    "La prueba U de Mann-Whitney puede utilizarse cuando las dos variables no se distribuyen de forma regular.\n",
    "---"
   ]
  },
  {
   "cell_type": "markdown",
   "metadata": {},
   "source": [
    "---\n",
    "**Probaremos la hipótesis nula:**\n",
    "- H0: Las medias de la cantidad de compras en los grupos A y B son iguales\n",
    "- HA: Las medias de la cantidad de compras en los grupos A y B no son iguales\n",
    "---"
   ]
  },
  {
   "cell_type": "code",
   "execution_count": 49,
   "metadata": {},
   "outputs": [],
   "source": [
    "# creamos un dataframe para el grupo 'A' conteniendo los pedidos por usuario\n",
    "orders_by_usersA = data_orders_AB[data_orders_AB['group']=='A'].groupby('visitorId', as_index=False)\\\n",
    "                    .agg({'transactionId' : pd.Series.nunique})\n",
    "orders_by_usersA.columns = ['visitorId', 'orders']"
   ]
  },
  {
   "cell_type": "code",
   "execution_count": 50,
   "metadata": {},
   "outputs": [],
   "source": [
    "# para los usuarios que no hicieron pedidos tendrán un cero\n",
    "# creamos la muestra para el grupo 'A'\n",
    "sampleA = pd.concat([orders_by_usersA['orders'],\\\n",
    "                     pd.Series(0, index=np.arange(data_visits[data_visits['group']=='A']['visits'].sum() - \\\n",
    "                                                  len(orders_by_usersA['orders'])), name='orders')],axis=0)"
   ]
  },
  {
   "cell_type": "code",
   "execution_count": 51,
   "metadata": {},
   "outputs": [],
   "source": [
    "# creamos un dataframe para el grupo 'B' conteniendo los pedidos por usuario\n",
    "orders_by_usersB = data_orders_AB[data_orders_AB['group']=='B'].groupby('visitorId', as_index=False)\\\n",
    "                    .agg({'transactionId' : pd.Series.nunique})\n",
    "orders_by_usersB.columns = ['visitorId', 'orders']"
   ]
  },
  {
   "cell_type": "code",
   "execution_count": 52,
   "metadata": {},
   "outputs": [],
   "source": [
    "# para los usuarios que no hicieron pedidos tendrán un cero\n",
    "# creamos la muestra para el grupo 'B'\n",
    "sampleB = pd.concat([orders_by_usersB['orders'],\\\n",
    "                     pd.Series(0, index=np.arange(data_visits[data_visits['group']=='B']['visits'].sum() - \\\n",
    "                                                  len(orders_by_usersB['orders'])), name='orders')],axis=0)"
   ]
  },
  {
   "cell_type": "code",
   "execution_count": 53,
   "metadata": {
    "tags": []
   },
   "outputs": [
    {
     "name": "stdout",
     "output_type": "stream",
     "text": [
      "0.011\n",
      "16.0%\n"
     ]
    }
   ],
   "source": [
    "# aplicamos la prueba de Mann-Whitney a las muestras, redondeamos a tres decimales\n",
    "# usaremos alfa=0.05\n",
    "print(\"{0:.3f}\".format(stats.mannwhitneyu(sampleA, sampleB)[1]))\n",
    "\n",
    "print(\"{0:.1%}\".format(sampleB.mean()/sampleA.mean()-1))"
   ]
  },
  {
   "cell_type": "markdown",
   "metadata": {},
   "source": [
    "**Conclusión: según los datos sin procesar, hay diferencia entre los grupos A y B, para la ganancia relativa de conversión para el grupo B: conversión del grupo B / conversión del grupo A - 1.**\n",
    "\n",
    "El **p-value=0.011 es menor al alfa=0.05.** Entonces **podemos rechazar la hipótesis nula de que las medias de la cantidad de compras en los grupos A y B son iguales.** La ganancia relativa del grupo B es del 16%."
   ]
  },
  {
   "cell_type": "markdown",
   "metadata": {},
   "source": [
    "[Volver a contenidos](#contenidos)\n",
    "### Significancia estadística de la diferencia en el monto promedio de pedido entre los grupos utilizando los datos en bruto"
   ]
  },
  {
   "cell_type": "code",
   "execution_count": 54,
   "metadata": {},
   "outputs": [],
   "source": [
    "# creamos un set de datos para el monto de los pedidos en el grupo 'A'\n",
    "orders_revenueA=data_orders_AB[data_orders_AB['group']=='A']['revenue']"
   ]
  },
  {
   "cell_type": "code",
   "execution_count": 55,
   "metadata": {},
   "outputs": [],
   "source": [
    "# creamos un set de datos para el monto de los pedidos en el grupo 'B'\n",
    "orders_revenueB=data_orders_AB[data_orders_AB['group']=='B']['revenue']"
   ]
  },
  {
   "cell_type": "markdown",
   "metadata": {},
   "source": [
    "---\n",
    "Probaremos la hipótesis nula:\n",
    "- H0: Las medias de los montos de las compras en los grupos A y B son iguales\n",
    "- HA: Las medias de los montos de las compras en los grupos A y B no son iguales\n",
    "---"
   ]
  },
  {
   "cell_type": "code",
   "execution_count": 56,
   "metadata": {
    "tags": []
   },
   "outputs": [
    {
     "name": "stdout",
     "output_type": "stream",
     "text": [
      "0.862\n",
      "27.8%\n"
     ]
    }
   ],
   "source": [
    "# aplicamos la prueba de Mann-Whitney a las muestras, redondeamos a tres decimales\n",
    "# usaremos alfa=0.05\n",
    "print('{0:.3f}'.format(stats.mannwhitneyu(orders_revenueA, orders_revenueB)[1]))\n",
    "print('{0:.1%}'.format(orders_revenueB.mean()/orders_revenueA.mean()-1))"
   ]
  },
  {
   "cell_type": "markdown",
   "metadata": {},
   "source": [
    "**Conclusión: según los datos sin procesar, no hay diferencia entre los grupos A y B, por lo que no hay motivo para rechazar la hipótesis nula y concluir que el monto promedio de los pedidos difiere entre los grupos.**\n",
    "\n",
    "El **p-value=0.862 es mayor al alfa=0.05,** entonces **no podemos rechazar la hipótesis nula ya que no hay diferencia estadísticamente significativa entre los grupos.**\n",
    "\n",
    "La diferencia entre los segmentos es casi del 28% a favor del grupo 'B'."
   ]
  },
  {
   "cell_type": "markdown",
   "metadata": {},
   "source": [
    "[Volver a contenidos](#contenidos)\n",
    "### Significancia estadística de la diferencia en la conversión entre los grupos utilizando los datos filtrados"
   ]
  },
  {
   "cell_type": "markdown",
   "metadata": {},
   "source": [
    "Para realizar las pruebas quitando los datos anómalos,vamos a crear slices de datos quitando aquellos usuarios con más de dos pedidos o aquellos pedidos con un monto de más de $435.\n",
    "\n",
    "**Los usuarios anómalos serán aquellos usuarios con más de tres pedidos o quienes hayan realizado pedidos por un monto mayor a $435.**"
   ]
  },
  {
   "cell_type": "code",
   "execution_count": 57,
   "metadata": {},
   "outputs": [],
   "source": [
    "# creamos un dataframe con los usuarios que hayan realizado más de dos pedidos en ambos grupos\n",
    "users_with_many_orders = pd.concat([orders_by_usersA[orders_by_usersA['orders'] > 2]['visitorId'],\\\n",
    "                                    orders_by_usersB[orders_by_usersB['orders'] > 2]['visitorId']], axis = 0)"
   ]
  },
  {
   "cell_type": "code",
   "execution_count": 58,
   "metadata": {},
   "outputs": [],
   "source": [
    "# creamos un dataframe con los usuarios que hayan hecho compras por un monto mayor a $435\n",
    "users_with_expensive_orders = data_orders[data_orders['revenue'] > 435]['visitorId']"
   ]
  },
  {
   "cell_type": "code",
   "execution_count": 59,
   "metadata": {},
   "outputs": [],
   "source": [
    "# fusionamos para crear una sola lista de los usuarios anómalos\n",
    "abnormal_users = pd.concat([users_with_many_orders, users_with_expensive_orders], axis = 0)\\\n",
    "                            .drop_duplicates().sort_values()"
   ]
  },
  {
   "cell_type": "code",
   "execution_count": 60,
   "metadata": {},
   "outputs": [
    {
     "data": {
      "text/plain": [
       "(65,)"
      ]
     },
     "execution_count": 60,
     "metadata": {},
     "output_type": "execute_result"
    }
   ],
   "source": [
    "# obtenemos la cantidad total de usuarios anómalos\n",
    "abnormal_users.shape"
   ]
  },
  {
   "cell_type": "markdown",
   "metadata": {},
   "source": [
    "**En total, tenemos 65 usuarios anómalos. Prepararemos ahora las muestras filtradas sin estos usuarios anómalos para proceder a aplicar las pruebas nuevamente.**"
   ]
  },
  {
   "cell_type": "code",
   "execution_count": 61,
   "metadata": {},
   "outputs": [],
   "source": [
    "# creamos la muestra filtrada para el grupo 'A'\n",
    "sampleA_filtered = pd.concat([orders_by_usersA[np.logical_not(orders_by_usersA['visitorId']\\\n",
    "                            .isin(abnormal_users))]['orders'],\\\n",
    "                            pd.Series(0, index=np.arange(data_visits[data_visits['group']=='A']['visits'].sum()\\\n",
    "                            - len(orders_by_usersA['orders'])),name='orders')],axis=0)"
   ]
  },
  {
   "cell_type": "code",
   "execution_count": 62,
   "metadata": {},
   "outputs": [],
   "source": [
    "# creamos la muestra filtrada para el grupo 'B'\n",
    "sampleB_filtered = pd.concat([orders_by_usersB[np.logical_not(orders_by_usersB['visitorId']\\\n",
    "                            .isin(abnormal_users))]['orders'],\\\n",
    "                            pd.Series(0, index=np.arange(data_visits[data_visits['group']=='B']['visits'].sum()\\\n",
    "                            - len(orders_by_usersB['orders'])),name='orders')],axis=0)"
   ]
  },
  {
   "cell_type": "markdown",
   "metadata": {},
   "source": [
    "---\n",
    "**Probaremos la hipótesis nula:**\n",
    "- H0: Las medias de la cantidad de compras en los grupos A y B son iguales\n",
    "- HA: Las medias de la cantidad de compras en los grupos A y B no son iguales\n",
    "---"
   ]
  },
  {
   "cell_type": "code",
   "execution_count": 63,
   "metadata": {
    "tags": []
   },
   "outputs": [
    {
     "name": "stdout",
     "output_type": "stream",
     "text": [
      "0.010\n",
      "18.6%\n"
     ]
    }
   ],
   "source": [
    "# aplicamos la prueba U de Mann-Whitney a los datos filtrados\n",
    "# usaremos alfa=0.05\n",
    "print(\"{0:.3f}\".format(stats.mannwhitneyu(sampleA_filtered, sampleB_filtered)[1]))\n",
    "print(\"{0:.1%}\".format(sampleB_filtered.mean()/sampleA_filtered.mean()-1))"
   ]
  },
  {
   "cell_type": "markdown",
   "metadata": {},
   "source": [
    "**Conclusión: según los datos filtrados, hay diferencia entre los grupos A y B, por lo que podemos rechazar la hipótesis nula y concluir que la cantidad promedio de compras difiere entre los grupos.**\n",
    "\n",
    "El **p-value=0.0.10 es menor al alfa=0.05,** entonces **podemos rechazar la hipótesis nula ya que al parecer hay diferencia estadísticamente significativa entre los grupos.**\n",
    "\n",
    "La diferencia entre los segmentos es casi del 19% a favor del grupo 'B'."
   ]
  },
  {
   "cell_type": "markdown",
   "metadata": {},
   "source": [
    "[Volver a contenidos](#contenidos)\n",
    "### Significancia estadística de la diferencia en el monto promedio de pedido entre los grupos utilizando los datos filtrados"
   ]
  },
  {
   "cell_type": "markdown",
   "metadata": {},
   "source": [
    "Vamos a crear dataframes filtrados para la prueba del monto promedio entre los grupos."
   ]
  },
  {
   "cell_type": "code",
   "execution_count": 64,
   "metadata": {},
   "outputs": [],
   "source": [
    "# creamos el dataframe filtrado para el grupo 'A'\n",
    "orders_revenueA_filtered=data_orders_AB[np.logical_and(data_orders_AB['group']=='A',\\\n",
    "                            np.logical_not(data_orders_AB['visitorId'].isin(abnormal_users)))]['revenue']"
   ]
  },
  {
   "cell_type": "code",
   "execution_count": 65,
   "metadata": {},
   "outputs": [],
   "source": [
    "# creamos el dataframe filtrado para el grupo 'B'\n",
    "orders_revenueB_filtered=data_orders_AB[np.logical_and(data_orders_AB['group']=='B',\\\n",
    "                            np.logical_not(data_orders_AB['visitorId'].isin(abnormal_users)))]['revenue']"
   ]
  },
  {
   "cell_type": "markdown",
   "metadata": {},
   "source": [
    "---\n",
    "**Probaremos la hipótesis nula:**\n",
    "- H0: Las medias de los montos de las compras en los grupos A y B son iguales\n",
    "- HA: Las medias de los montos de las compras en los grupos A y B no son iguales\n",
    "---"
   ]
  },
  {
   "cell_type": "code",
   "execution_count": 66,
   "metadata": {},
   "outputs": [
    {
     "name": "stdout",
     "output_type": "stream",
     "text": [
      "0.758\n",
      "-3.1%\n"
     ]
    }
   ],
   "source": [
    "# aplicamos la prueba U de Mann-Whitney a los datos filtrados\n",
    "# usaremos alfa=0.05\n",
    "print('{0:.3f}'.format(stats.mannwhitneyu(orders_revenueA_filtered,orders_revenueB_filtered)[1]))\n",
    "print('{0:.1%}'.format(orders_revenueB_filtered.mean()/orders_revenueA_filtered.mean() - 1))"
   ]
  },
  {
   "cell_type": "markdown",
   "metadata": {},
   "source": [
    "**Conclusión: según los datos filtrados, no hay diferencia entre los grupos A y B, por lo que no hay motivo para rechazar la hipótesis nula y concluir que el monto promedio de los pedidos difiere entre los grupos.**\n",
    "\n",
    "El **p-value=0.758 es mayor al alfa=0.05,** entonces **no podemos rechazar la hipótesis nula ya que no hay diferencia estadísticamente significativa entre los grupos.**\n",
    "\n",
    "La diferencia entre los segmentos pasó de casi 28% a favor del grupo 'B' al 3% a favor del grupo 'A'."
   ]
  },
  {
   "cell_type": "markdown",
   "metadata": {},
   "source": [
    "[Volver a contenidos](#contenidos)\n",
    "### Tomar una decisión basada en los resultados de la prueba"
   ]
  },
  {
   "cell_type": "markdown",
   "metadata": {},
   "source": [
    "---\n",
    "**Conclusiones:**\n",
    "1. Hasta el momento, **los análisis realizados han mostrado diferencias significativas entre los grupos para la cantidad promedio de compras realizadas.**\n",
    "1. El grupo 'B' muestra mejor desempeño que el grupo 'A', con un 19% a favor del grupo 'B'.\n",
    "1. Observando el gráfico de tasa de conversión acumulada por grupo, podemos notar que aún no se estabilizan esas tasas de conversión por lo que, se recomienda continuar la prueba y seguir monitoreando las tasas de conversión.\n",
    "---"
   ]
  }
 ],
 "metadata": {
  "kernelspec": {
   "display_name": "Python 3 (ipykernel)",
   "language": "python",
   "name": "python3"
  },
  "language_info": {
   "codemirror_mode": {
    "name": "ipython",
    "version": 3
   },
   "file_extension": ".py",
   "mimetype": "text/x-python",
   "name": "python",
   "nbconvert_exporter": "python",
   "pygments_lexer": "ipython3",
   "version": "3.9.5"
  },
  "toc": {
   "base_numbering": 1,
   "nav_menu": {},
   "number_sections": true,
   "sideBar": true,
   "skip_h1_title": true,
   "title_cell": "Tabla de Contenidos",
   "title_sidebar": "Contenidos",
   "toc_cell": true,
   "toc_position": {
    "height": "calc(100% - 180px)",
    "left": "10px",
    "top": "150px",
    "width": "164.972px"
   },
   "toc_section_display": true,
   "toc_window_display": true
  },
  "toc-autonumbering": true,
  "toc-showmarkdowntxt": false,
  "toc-showtags": false
 },
 "nbformat": 4,
 "nbformat_minor": 4
}
